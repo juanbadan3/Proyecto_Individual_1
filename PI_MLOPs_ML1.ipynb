{
 "cells": [
  {
   "cell_type": "code",
   "execution_count": 1,
   "metadata": {},
   "outputs": [],
   "source": [
    "#IMPORTAMOS LAS LIBRERIAS QUE VAMOS A USAR\n",
    "import pandas as pd\n",
    "import numpy as np\n",
    "from sklearn.neighbors import KNeighborsClassifier\n",
    "from sklearn.preprocessing import LabelEncoder\n",
    "from sklearn.feature_extraction.text import TfidfVectorizer\n",
    "from sklearn.metrics.pairwise import cosine_similarity\n",
    "from sklearn.decomposition import IncrementalPCA\n",
    "from sklearn.model_selection import train_test_split"
   ]
  },
  {
   "cell_type": "code",
   "execution_count": 2,
   "metadata": {},
   "outputs": [],
   "source": [
    "#abro el dataset\n",
    "df_ML1= pd.read_csv('df_ML1.csv')"
   ]
  },
  {
   "cell_type": "code",
   "execution_count": 3,
   "metadata": {},
   "outputs": [
    {
     "data": {
      "text/html": [
       "<div>\n",
       "<style scoped>\n",
       "    .dataframe tbody tr th:only-of-type {\n",
       "        vertical-align: middle;\n",
       "    }\n",
       "\n",
       "    .dataframe tbody tr th {\n",
       "        vertical-align: top;\n",
       "    }\n",
       "\n",
       "    .dataframe thead th {\n",
       "        text-align: right;\n",
       "    }\n",
       "</style>\n",
       "<table border=\"1\" class=\"dataframe\">\n",
       "  <thead>\n",
       "    <tr style=\"text-align: right;\">\n",
       "      <th></th>\n",
       "      <th>Unnamed: 0</th>\n",
       "      <th>genres</th>\n",
       "      <th>app_name</th>\n",
       "      <th>price_x</th>\n",
       "      <th>item_id</th>\n",
       "      <th>developer</th>\n",
       "      <th>user_id</th>\n",
       "      <th>playtime_forever</th>\n",
       "      <th>recommend</th>\n",
       "      <th>sentiment_analysis</th>\n",
       "      <th>genres_encoded</th>\n",
       "    </tr>\n",
       "  </thead>\n",
       "  <tbody>\n",
       "    <tr>\n",
       "      <th>0</th>\n",
       "      <td>0</td>\n",
       "      <td>Action</td>\n",
       "      <td>Half-Life</td>\n",
       "      <td>9.99</td>\n",
       "      <td>70</td>\n",
       "      <td>Valve</td>\n",
       "      <td>DingarooEF</td>\n",
       "      <td>108.0</td>\n",
       "      <td>True</td>\n",
       "      <td>2</td>\n",
       "      <td>0</td>\n",
       "    </tr>\n",
       "    <tr>\n",
       "      <th>1</th>\n",
       "      <td>252</td>\n",
       "      <td>Action, Indie, RPG</td>\n",
       "      <td>The Ship: Murder Party</td>\n",
       "      <td>9.99</td>\n",
       "      <td>2400</td>\n",
       "      <td>Outerlight Ltd.</td>\n",
       "      <td>76561198151870370</td>\n",
       "      <td>1.0</td>\n",
       "      <td>True</td>\n",
       "      <td>0</td>\n",
       "      <td>107</td>\n",
       "    </tr>\n",
       "    <tr>\n",
       "      <th>2</th>\n",
       "      <td>580</td>\n",
       "      <td>Indie, Strategy</td>\n",
       "      <td>DEFCON</td>\n",
       "      <td>9.99</td>\n",
       "      <td>1520</td>\n",
       "      <td>Introversion Software</td>\n",
       "      <td>76561198076145661</td>\n",
       "      <td>158.0</td>\n",
       "      <td>True</td>\n",
       "      <td>2</td>\n",
       "      <td>270</td>\n",
       "    </tr>\n",
       "    <tr>\n",
       "      <th>3</th>\n",
       "      <td>679</td>\n",
       "      <td>Action, Indie, RPG</td>\n",
       "      <td>The Ship: Single Player</td>\n",
       "      <td>9.99</td>\n",
       "      <td>2420</td>\n",
       "      <td>Outerlight Ltd.</td>\n",
       "      <td>UberDuckLord</td>\n",
       "      <td>15.0</td>\n",
       "      <td>True</td>\n",
       "      <td>2</td>\n",
       "      <td>107</td>\n",
       "    </tr>\n",
       "    <tr>\n",
       "      <th>4</th>\n",
       "      <td>712</td>\n",
       "      <td>Indie, Simulation</td>\n",
       "      <td>Garry's Mod</td>\n",
       "      <td>9.99</td>\n",
       "      <td>4000</td>\n",
       "      <td>Facepunch Studios</td>\n",
       "      <td>euzi</td>\n",
       "      <td>412.0</td>\n",
       "      <td>True</td>\n",
       "      <td>1</td>\n",
       "      <td>263</td>\n",
       "    </tr>\n",
       "    <tr>\n",
       "      <th>...</th>\n",
       "      <td>...</td>\n",
       "      <td>...</td>\n",
       "      <td>...</td>\n",
       "      <td>...</td>\n",
       "      <td>...</td>\n",
       "      <td>...</td>\n",
       "      <td>...</td>\n",
       "      <td>...</td>\n",
       "      <td>...</td>\n",
       "      <td>...</td>\n",
       "      <td>...</td>\n",
       "    </tr>\n",
       "    <tr>\n",
       "      <th>1855</th>\n",
       "      <td>185998</td>\n",
       "      <td>Action</td>\n",
       "      <td>Deathmatch Classic</td>\n",
       "      <td>4.99</td>\n",
       "      <td>40</td>\n",
       "      <td>Valve</td>\n",
       "      <td>76561198038840599</td>\n",
       "      <td>4.0</td>\n",
       "      <td>True</td>\n",
       "      <td>2</td>\n",
       "      <td>0</td>\n",
       "    </tr>\n",
       "    <tr>\n",
       "      <th>1856</th>\n",
       "      <td>186013</td>\n",
       "      <td>Action</td>\n",
       "      <td>Half-Life: Blue Shift</td>\n",
       "      <td>4.99</td>\n",
       "      <td>130</td>\n",
       "      <td>Gearbox Software</td>\n",
       "      <td>efey123</td>\n",
       "      <td>313.0</td>\n",
       "      <td>True</td>\n",
       "      <td>2</td>\n",
       "      <td>0</td>\n",
       "    </tr>\n",
       "    <tr>\n",
       "      <th>1857</th>\n",
       "      <td>186077</td>\n",
       "      <td>Action</td>\n",
       "      <td>Day of Defeat</td>\n",
       "      <td>4.99</td>\n",
       "      <td>30</td>\n",
       "      <td>Valve</td>\n",
       "      <td>evcentric</td>\n",
       "      <td>7.0</td>\n",
       "      <td>True</td>\n",
       "      <td>2</td>\n",
       "      <td>0</td>\n",
       "    </tr>\n",
       "    <tr>\n",
       "      <th>1858</th>\n",
       "      <td>186133</td>\n",
       "      <td>Action</td>\n",
       "      <td>Unreal Tournament 2004: Editor's Choice Edition</td>\n",
       "      <td>14.99</td>\n",
       "      <td>13230</td>\n",
       "      <td>Epic Games, Inc.</td>\n",
       "      <td>PimpIt</td>\n",
       "      <td>1668.0</td>\n",
       "      <td>True</td>\n",
       "      <td>2</td>\n",
       "      <td>0</td>\n",
       "    </tr>\n",
       "    <tr>\n",
       "      <th>1859</th>\n",
       "      <td>186163</td>\n",
       "      <td>Action</td>\n",
       "      <td>Counter-Strike: Condition Zero</td>\n",
       "      <td>9.99</td>\n",
       "      <td>80</td>\n",
       "      <td>Valve</td>\n",
       "      <td>76561198045236145</td>\n",
       "      <td>13.0</td>\n",
       "      <td>True</td>\n",
       "      <td>1</td>\n",
       "      <td>0</td>\n",
       "    </tr>\n",
       "  </tbody>\n",
       "</table>\n",
       "<p>1860 rows × 11 columns</p>\n",
       "</div>"
      ],
      "text/plain": [
       "      Unnamed: 0              genres  \\\n",
       "0              0              Action   \n",
       "1            252  Action, Indie, RPG   \n",
       "2            580     Indie, Strategy   \n",
       "3            679  Action, Indie, RPG   \n",
       "4            712   Indie, Simulation   \n",
       "...          ...                 ...   \n",
       "1855      185998              Action   \n",
       "1856      186013              Action   \n",
       "1857      186077              Action   \n",
       "1858      186133              Action   \n",
       "1859      186163              Action   \n",
       "\n",
       "                                             app_name price_x  item_id  \\\n",
       "0                                           Half-Life    9.99       70   \n",
       "1                              The Ship: Murder Party    9.99     2400   \n",
       "2                                              DEFCON    9.99     1520   \n",
       "3                             The Ship: Single Player    9.99     2420   \n",
       "4                                         Garry's Mod    9.99     4000   \n",
       "...                                               ...     ...      ...   \n",
       "1855                               Deathmatch Classic    4.99       40   \n",
       "1856                            Half-Life: Blue Shift    4.99      130   \n",
       "1857                                    Day of Defeat    4.99       30   \n",
       "1858  Unreal Tournament 2004: Editor's Choice Edition   14.99    13230   \n",
       "1859                   Counter-Strike: Condition Zero    9.99       80   \n",
       "\n",
       "                  developer            user_id  playtime_forever  recommend  \\\n",
       "0                     Valve         DingarooEF             108.0       True   \n",
       "1           Outerlight Ltd.  76561198151870370               1.0       True   \n",
       "2     Introversion Software  76561198076145661             158.0       True   \n",
       "3           Outerlight Ltd.       UberDuckLord              15.0       True   \n",
       "4         Facepunch Studios               euzi             412.0       True   \n",
       "...                     ...                ...               ...        ...   \n",
       "1855                  Valve  76561198038840599               4.0       True   \n",
       "1856       Gearbox Software            efey123             313.0       True   \n",
       "1857                  Valve          evcentric               7.0       True   \n",
       "1858       Epic Games, Inc.             PimpIt            1668.0       True   \n",
       "1859                  Valve  76561198045236145              13.0       True   \n",
       "\n",
       "      sentiment_analysis  genres_encoded  \n",
       "0                      2               0  \n",
       "1                      0             107  \n",
       "2                      2             270  \n",
       "3                      2             107  \n",
       "4                      1             263  \n",
       "...                  ...             ...  \n",
       "1855                   2               0  \n",
       "1856                   2               0  \n",
       "1857                   2               0  \n",
       "1858                   2               0  \n",
       "1859                   1               0  \n",
       "\n",
       "[1860 rows x 11 columns]"
      ]
     },
     "execution_count": 3,
     "metadata": {},
     "output_type": "execute_result"
    }
   ],
   "source": [
    "df_ML1"
   ]
  },
  {
   "cell_type": "code",
   "execution_count": 4,
   "metadata": {},
   "outputs": [],
   "source": [
    "#se eliminan columnas inaportantes\n",
    "df_ML1=df_ML1.drop(columns=['Unnamed: 0','developer', 'playtime_forever'])"
   ]
  },
  {
   "cell_type": "code",
   "execution_count": 5,
   "metadata": {},
   "outputs": [],
   "source": [
    "#creo el modelo de machine learning (simulitud de cosenos)\n",
    "#vectorizamos los datos\n",
    "textos = df_ML1['genres']\n",
    "vectorizer = TfidfVectorizer()\n",
    "matriz_tfidf = vectorizer.fit_transform(textos)"
   ]
  },
  {
   "cell_type": "code",
   "execution_count": 6,
   "metadata": {},
   "outputs": [],
   "source": [
    "#Reducimos dimencionalidad con PCA\n",
    "ipca = IncrementalPCA(n_components=20)\n",
    "matriz_ipca = ipca.fit_transform(matriz_tfidf)"
   ]
  },
  {
   "cell_type": "code",
   "execution_count": 7,
   "metadata": {},
   "outputs": [],
   "source": [
    "#Hacemos el cálculo de similitud del coseno después de PCA\n",
    "similitud_pca = cosine_similarity(matriz_ipca)\n",
    "similitud = similitud_pca"
   ]
  },
  {
   "cell_type": "code",
   "execution_count": 9,
   "metadata": {},
   "outputs": [],
   "source": [
    "'''Como queremos recomendar juegos, hacemos un filtro de la columna sentiment_analysis==2 y recommend==True ya que estos son los positivos, y necesitamos usar menos memoria'''\n",
    "df_ML1=df_ML1[df_ML1['sentiment_analysis']==2]\n",
    "df_ML1=df_ML1[df_ML1['recommend']== True]"
   ]
  },
  {
   "cell_type": "code",
   "execution_count": null,
   "metadata": {},
   "outputs": [],
   "source": [
    "'''continua sin funcionar, no tengo los recursos de memoria Ram para aplicar el modelo de similaridad del coseno'''"
   ]
  },
  {
   "cell_type": "code",
   "execution_count": 35,
   "metadata": {},
   "outputs": [],
   "source": [
    "#Uso el modelo de k-Nearest Neighbors \n",
    "#Importo la libreria picke (formato .pkl archivo de formato binario)\n",
    "\n",
    "import pickle"
   ]
  },
  {
   "cell_type": "code",
   "execution_count": 36,
   "metadata": {},
   "outputs": [],
   "source": [
    "#CREO UNA INSTANCIA DEL CODIFICADOR\n",
    "label_encoder = LabelEncoder()"
   ]
  },
  {
   "cell_type": "code",
   "execution_count": 37,
   "metadata": {},
   "outputs": [],
   "source": [
    "# Cargar los datos\n",
    "df_ml1 = pd.read_csv(\"df_ML1.csv\")"
   ]
  },
  {
   "cell_type": "code",
   "execution_count": 39,
   "metadata": {},
   "outputs": [],
   "source": [
    "#se eliminan columnas inaportantes\n",
    "df_ml1=df_ml1.drop(columns=['Unnamed: 0'])"
   ]
  },
  {
   "cell_type": "code",
   "execution_count": 40,
   "metadata": {},
   "outputs": [],
   "source": [
    "# se crea una nueva columna llamada genres_encoded, que tiene los generos codificados como int.\n",
    "df_ml1[\"genres_encoded\"] = label_encoder.fit_transform(df_ml1[\"genres\"])"
   ]
  },
  {
   "cell_type": "code",
   "execution_count": 41,
   "metadata": {},
   "outputs": [],
   "source": [
    "# se crea un diccionario para los títulos asociados a cada item_id\n",
    "titles_by_item_id = {}\n",
    "for i in range(len(df_ml1)):\n",
    "    titles_by_item_id[df_ml1.loc[i, \"item_id\"]] = df_ml1.loc[i, \"app_name\"]"
   ]
  },
  {
   "cell_type": "code",
   "execution_count": 42,
   "metadata": {},
   "outputs": [],
   "source": [
    "# creo el modelo\n",
    "k = 5\n",
    "model = KNeighborsClassifier(n_neighbors=k)"
   ]
  },
  {
   "cell_type": "code",
   "execution_count": 43,
   "metadata": {},
   "outputs": [
    {
     "data": {
      "text/html": [
       "<style>#sk-container-id-1 {color: black;}#sk-container-id-1 pre{padding: 0;}#sk-container-id-1 div.sk-toggleable {background-color: white;}#sk-container-id-1 label.sk-toggleable__label {cursor: pointer;display: block;width: 100%;margin-bottom: 0;padding: 0.3em;box-sizing: border-box;text-align: center;}#sk-container-id-1 label.sk-toggleable__label-arrow:before {content: \"▸\";float: left;margin-right: 0.25em;color: #696969;}#sk-container-id-1 label.sk-toggleable__label-arrow:hover:before {color: black;}#sk-container-id-1 div.sk-estimator:hover label.sk-toggleable__label-arrow:before {color: black;}#sk-container-id-1 div.sk-toggleable__content {max-height: 0;max-width: 0;overflow: hidden;text-align: left;background-color: #f0f8ff;}#sk-container-id-1 div.sk-toggleable__content pre {margin: 0.2em;color: black;border-radius: 0.25em;background-color: #f0f8ff;}#sk-container-id-1 input.sk-toggleable__control:checked~div.sk-toggleable__content {max-height: 200px;max-width: 100%;overflow: auto;}#sk-container-id-1 input.sk-toggleable__control:checked~label.sk-toggleable__label-arrow:before {content: \"▾\";}#sk-container-id-1 div.sk-estimator input.sk-toggleable__control:checked~label.sk-toggleable__label {background-color: #d4ebff;}#sk-container-id-1 div.sk-label input.sk-toggleable__control:checked~label.sk-toggleable__label {background-color: #d4ebff;}#sk-container-id-1 input.sk-hidden--visually {border: 0;clip: rect(1px 1px 1px 1px);clip: rect(1px, 1px, 1px, 1px);height: 1px;margin: -1px;overflow: hidden;padding: 0;position: absolute;width: 1px;}#sk-container-id-1 div.sk-estimator {font-family: monospace;background-color: #f0f8ff;border: 1px dotted black;border-radius: 0.25em;box-sizing: border-box;margin-bottom: 0.5em;}#sk-container-id-1 div.sk-estimator:hover {background-color: #d4ebff;}#sk-container-id-1 div.sk-parallel-item::after {content: \"\";width: 100%;border-bottom: 1px solid gray;flex-grow: 1;}#sk-container-id-1 div.sk-label:hover label.sk-toggleable__label {background-color: #d4ebff;}#sk-container-id-1 div.sk-serial::before {content: \"\";position: absolute;border-left: 1px solid gray;box-sizing: border-box;top: 0;bottom: 0;left: 50%;z-index: 0;}#sk-container-id-1 div.sk-serial {display: flex;flex-direction: column;align-items: center;background-color: white;padding-right: 0.2em;padding-left: 0.2em;position: relative;}#sk-container-id-1 div.sk-item {position: relative;z-index: 1;}#sk-container-id-1 div.sk-parallel {display: flex;align-items: stretch;justify-content: center;background-color: white;position: relative;}#sk-container-id-1 div.sk-item::before, #sk-container-id-1 div.sk-parallel-item::before {content: \"\";position: absolute;border-left: 1px solid gray;box-sizing: border-box;top: 0;bottom: 0;left: 50%;z-index: -1;}#sk-container-id-1 div.sk-parallel-item {display: flex;flex-direction: column;z-index: 1;position: relative;background-color: white;}#sk-container-id-1 div.sk-parallel-item:first-child::after {align-self: flex-end;width: 50%;}#sk-container-id-1 div.sk-parallel-item:last-child::after {align-self: flex-start;width: 50%;}#sk-container-id-1 div.sk-parallel-item:only-child::after {width: 0;}#sk-container-id-1 div.sk-dashed-wrapped {border: 1px dashed gray;margin: 0 0.4em 0.5em 0.4em;box-sizing: border-box;padding-bottom: 0.4em;background-color: white;}#sk-container-id-1 div.sk-label label {font-family: monospace;font-weight: bold;display: inline-block;line-height: 1.2em;}#sk-container-id-1 div.sk-label-container {text-align: center;}#sk-container-id-1 div.sk-container {/* jupyter's `normalize.less` sets `[hidden] { display: none; }` but bootstrap.min.css set `[hidden] { display: none !important; }` so we also need the `!important` here to be able to override the default hidden behavior on the sphinx rendered scikit-learn.org. See: https://github.com/scikit-learn/scikit-learn/issues/21755 */display: inline-block !important;position: relative;}#sk-container-id-1 div.sk-text-repr-fallback {display: none;}</style><div id=\"sk-container-id-1\" class=\"sk-top-container\"><div class=\"sk-text-repr-fallback\"><pre>KNeighborsClassifier()</pre><b>In a Jupyter environment, please rerun this cell to show the HTML representation or trust the notebook. <br />On GitHub, the HTML representation is unable to render, please try loading this page with nbviewer.org.</b></div><div class=\"sk-container\" hidden><div class=\"sk-item\"><div class=\"sk-estimator sk-toggleable\"><input class=\"sk-toggleable__control sk-hidden--visually\" id=\"sk-estimator-id-1\" type=\"checkbox\" checked><label for=\"sk-estimator-id-1\" class=\"sk-toggleable__label sk-toggleable__label-arrow\">KNeighborsClassifier</label><div class=\"sk-toggleable__content\"><pre>KNeighborsClassifier()</pre></div></div></div></div></div>"
      ],
      "text/plain": [
       "KNeighborsClassifier()"
      ]
     },
     "execution_count": 43,
     "metadata": {},
     "output_type": "execute_result"
    }
   ],
   "source": [
    "# Entreno el modelo\n",
    "model.fit(df_ml1[['genres_encoded']], df_ml1['app_name'])"
   ]
  },
  {
   "cell_type": "code",
   "execution_count": 64,
   "metadata": {},
   "outputs": [
    {
     "data": {
      "text/html": [
       "<div>\n",
       "<style scoped>\n",
       "    .dataframe tbody tr th:only-of-type {\n",
       "        vertical-align: middle;\n",
       "    }\n",
       "\n",
       "    .dataframe tbody tr th {\n",
       "        vertical-align: top;\n",
       "    }\n",
       "\n",
       "    .dataframe thead th {\n",
       "        text-align: right;\n",
       "    }\n",
       "</style>\n",
       "<table border=\"1\" class=\"dataframe\">\n",
       "  <thead>\n",
       "    <tr style=\"text-align: right;\">\n",
       "      <th></th>\n",
       "      <th>genres</th>\n",
       "      <th>app_name</th>\n",
       "      <th>price_x</th>\n",
       "      <th>item_id</th>\n",
       "      <th>user_id</th>\n",
       "      <th>recommend</th>\n",
       "      <th>sentiment_analysis</th>\n",
       "      <th>genres_encoded</th>\n",
       "    </tr>\n",
       "  </thead>\n",
       "  <tbody>\n",
       "    <tr>\n",
       "      <th>275</th>\n",
       "      <td>Indie, Strategy</td>\n",
       "      <td>Unity of Command: Stalingrad Campaign</td>\n",
       "      <td>19.99</td>\n",
       "      <td>218090</td>\n",
       "      <td>76561198036297711</td>\n",
       "      <td>True</td>\n",
       "      <td>2</td>\n",
       "      <td>270</td>\n",
       "    </tr>\n",
       "  </tbody>\n",
       "</table>\n",
       "</div>"
      ],
      "text/plain": [
       "              genres                               app_name price_x  item_id  \\\n",
       "275  Indie, Strategy  Unity of Command: Stalingrad Campaign   19.99   218090   \n",
       "\n",
       "               user_id  recommend  sentiment_analysis  genres_encoded  \n",
       "275  76561198036297711       True                   2             270  "
      ]
     },
     "execution_count": 64,
     "metadata": {},
     "output_type": "execute_result"
    }
   ],
   "source": [
    "df_ML1.sample()"
   ]
  },
  {
   "cell_type": "code",
   "execution_count": 65,
   "metadata": {},
   "outputs": [
    {
     "name": "stderr",
     "output_type": "stream",
     "text": [
      "c:\\Users\\Elena\\AppData\\Local\\Programs\\Python\\Python311\\Lib\\site-packages\\sklearn\\base.py:465: UserWarning: X does not have valid feature names, but KNeighborsClassifier was fitted with feature names\n",
      "  warnings.warn(\n"
     ]
    },
    {
     "data": {
      "text/plain": [
       "{'similar_games': ['DEFCON',\n",
       "  'StarDrive',\n",
       "  'Defense Grid: The Awakening',\n",
       "  'Frozen Synapse',\n",
       "  'Cubemen']}"
      ]
     },
     "execution_count": 65,
     "metadata": {},
     "output_type": "execute_result"
    }
   ],
   "source": [
    "# Guardo el modelo1\n",
    "with open('modelo1.pkl', 'wb') as f:\n",
    "    pickle.dump(model, f)\n",
    "# Guardo el diccionario\n",
    "with open('titles_by_item_id.pkl', 'wb') as f:\n",
    "    pickle.dump(titles_by_item_id, f)\n",
    "def get_recommendations(item_id: int):\n",
    "\n",
    "    # Cargar el modelo1 \n",
    "    with open(\"modelo1.pkl\", \"rb\") as f:\n",
    "        model = pickle.load(f)\n",
    "\n",
    "    # Cargar el diccionario de títulos\n",
    "    with open(\"titles_by_item_id.pkl\", \"rb\") as f:\n",
    "        titles_by_item_id = pickle.load(f)\n",
    "\n",
    "    # Buscar el género codificado del juego proporcionado por el usuario\n",
    "    input_game = df_ml1[df_ml1[\"item_id\"] == item_id][\"genres_encoded\"].values[0]\n",
    "\n",
    "    # Encontrar los juegos más similares\n",
    "    _, indices = model.kneighbors([[input_game]])\n",
    "\n",
    "    # Obtener los títulos de los juegos similares\n",
    "    similar_games = [titles_by_item_id[df_ml1.loc[i, \"item_id\"]] for i in indices[0]]\n",
    "\n",
    "    # Devolver un diccionario de los títulos\n",
    "    return {\"similar_games\": similar_games}\n",
    "get_recommendations(218090)"
   ]
  }
 ],
 "metadata": {
  "kernelspec": {
   "display_name": "Python 3",
   "language": "python",
   "name": "python3"
  },
  "language_info": {
   "codemirror_mode": {
    "name": "ipython",
    "version": 3
   },
   "file_extension": ".py",
   "mimetype": "text/x-python",
   "name": "python",
   "nbconvert_exporter": "python",
   "pygments_lexer": "ipython3",
   "version": "3.11.4"
  }
 },
 "nbformat": 4,
 "nbformat_minor": 2
}
